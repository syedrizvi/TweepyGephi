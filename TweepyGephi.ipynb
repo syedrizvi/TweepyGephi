{
 "cells": [
  {
   "cell_type": "markdown",
   "metadata": {},
   "source": [
    "# Tweepy & Gephi\n",
    "In this tutorial we will use Tweepy to get tweets from the Twitter API, then we will use Gephi to see links between twitter users via retweet links"
   ]
  },
  {
   "cell_type": "markdown",
   "metadata": {},
   "source": [
    "## Getting data from Twitter\n",
    "If you don't have tweepy installed on your machine then uncomment and run the following command"
   ]
  },
  {
   "cell_type": "code",
   "execution_count": 126,
   "metadata": {
    "collapsed": true
   },
   "outputs": [],
   "source": [
    "#!pip install --upgrade tweepy"
   ]
  },
  {
   "cell_type": "code",
   "execution_count": 1,
   "metadata": {
    "collapsed": true
   },
   "outputs": [],
   "source": [
    "#Import the required libraries \n",
    "import tweepy\n",
    "import pandas as pd\n",
    "import matplotlib.pyplot as plt\n",
    "\n",
    "#For streaming tweets\n",
    "from tweepy.streaming import StreamListener\n",
    "from tweepy import Stream\n",
    "\n",
    "\n",
    "#For storing the tweets in json\n",
    "import sys\n",
    "import json"
   ]
  },
  {
   "cell_type": "markdown",
   "metadata": {},
   "source": [
    "### Setting up the Twitter API\n",
    "We get the api keys from apps.twitter.com"
   ]
  },
  {
   "cell_type": "code",
   "execution_count": 2,
   "metadata": {
    "collapsed": false
   },
   "outputs": [],
   "source": [
    "#Twitter keys\n",
    "consumerKey = '2X4TMqdjHNoXkuKYYyYWcwgJg'\n",
    "consumerSecret = 'UhfVbh3ieZZ6A8JZU4LfaODkMG4xYlo2afpQJ2qbiffKZqGtFU'\n",
    "access_token = '330840191-IjH37GO9g9qXZbcE4SbMmTYyetTn5ZkoETd41Btw'\n",
    "access_token_secret = 'EnEIhinq7rwWyBCEVFRPA22WglMYkKC46APPPrRsJOjUO'"
   ]
  },
  {
   "cell_type": "code",
   "execution_count": 3,
   "metadata": {
    "collapsed": false
   },
   "outputs": [],
   "source": [
    "#Use tweepy.OAuthHandler to create an authnetication using the given key and secret\n",
    "auth = tweepy.OAuthHandler(consumer_key=consumerKey,consumer_secret=consumerSecret)\n",
    "auth.set_access_token(access_token, access_token_secret)\n",
    "\n",
    "#Connect to the Twitter API using the authentication\n",
    "api = tweepy.API(auth)"
   ]
  },
  {
   "cell_type": "markdown",
   "metadata": {},
   "source": [
    "### Creating a twitter stream listener"
   ]
  },
  {
   "cell_type": "code",
   "execution_count": 9,
   "metadata": {
    "collapsed": false
   },
   "outputs": [],
   "source": [
    "class StdOutListener(StreamListener):\n",
    "\n",
    "    def __init__(self, api=None):\n",
    "        super(StdOutListener, self).__init__()\n",
    "        self.num_tweets = 0\n",
    "        #self.list_of_tweets = []\n",
    "        \n",
    "    def on_data(self, data):\n",
    "        # Twitter returns data in JSON format - we need to decode it first\n",
    "        decoded = json.loads(data)\n",
    "        # Also, we convert UTF-8 to ASCII ignoring all bad characters sent by users\n",
    "        print '@%s @#@ %s @#@ %s' % (decoded['user']['screen_name'], decoded['entities']['user_mentions'], decoded['text'].encode('ascii', 'ignore'))\n",
    "        print ''\n",
    "        #record = decoded['user']['screen_name'], decoded['entities']['user_mentions'], decoded['text'].encode('ascii', 'ignore')\n",
    "        self.num_tweets += 1\n",
    "        tweets_data.append(str(data))\n",
    "        if self.num_tweets < num_tweet_limit:\n",
    "            return True\n",
    "        else:\n",
    "            return False\n",
    "        \n",
    "    def on_error(self, status_code):\n",
    "        if status_code == 420:\n",
    "            #returning False in on_data disconnects the stream\n",
    "            return False\n",
    "        print 'Error on status', status\n",
    "\n",
    "    def on_limit(self, status):\n",
    "        print 'Limit threshold exceeded', status\n",
    "\n",
    "    def on_timeout(self, status):\n",
    "        print 'Stream disconnected; continuing...'"
   ]
  },
  {
   "cell_type": "markdown",
   "metadata": {},
   "source": [
    "Streaming of tweets will start when you implement this code cell. Make async=True if you want it to run in the background"
   ]
  },
  {
   "cell_type": "code",
   "execution_count": 10,
   "metadata": {
    "collapsed": false
   },
   "outputs": [
    {
     "name": "stdout",
     "output_type": "stream",
     "text": [
      "@Miss_Lichakane @#@ [{u'id': 2821332738L, u'indices': [3, 15], u'id_str': u'2821332738', u'screen_name': u'singers0ngs', u'name': u'rt ur fave songs'}] @#@ RT @singers0ngs: boyfriend - justin bieber\n",
      "\n",
      "@carolina_hnrt @#@ [] @#@ Si si si an recuerdo ese video fetus  https://t.co/pt2APYoSeM\n",
      "\n",
      "@GabGuilherme @#@ [{u'id': 10228272, u'indices': [19, 27], u'id_str': u'10228272', u'screen_name': u'YouTube', u'name': u'YouTube'}, {u'id': 2669366412L, u'indices': [31, 41], u'id_str': u'2669366412', u'screen_name': u'nossatoca', u'name': u'Nossa Toca'}] @#@ Gostei de um vdeo @YouTube de @nossatoca https://t.co/9tQkkBcOQ5 Sorry - Justin Bieber (KayaMutt cover)\n",
      "\n",
      "@Pqp_Smith @#@ [{u'id': 912659844, u'indices': [3, 14], u'id_str': u'912659844', u'screen_name': u'smgdefence', u'name': u'\\u200f\\ufe0f\\u200f\\ufe0f'}] @#@ RT @smgdefence: justin bieber  uma obra de arte https://t.co/8NxxelgvLC\n",
      "\n",
      "@Believee_2012 @#@ [{u'id': 1239313056, u'indices': [3, 16], u'id_str': u'1239313056', u'screen_name': u'JBCrewdotcom', u'name': u'JustinBieberCrew.com'}] @#@ RT @JBCrewdotcom: Justin Bieber via Bkstg: https://t.co/QNdLHO2X60\n",
      "\n"
     ]
    }
   ],
   "source": [
    "listener = StdOutListener()\n",
    "\n",
    "tweets_data = []\n",
    "num_tweet_limit = 5 #Number of tweets you want to stream\n",
    "stream = Stream(auth, listener)\n",
    "\n",
    "stream.filter(track=['bieber'], async=False)"
   ]
  },
  {
   "cell_type": "code",
   "execution_count": 113,
   "metadata": {
    "collapsed": false
   },
   "outputs": [
    {
     "data": {
      "text/plain": [
       "1000"
      ]
     },
     "execution_count": 113,
     "metadata": {},
     "output_type": "execute_result"
    }
   ],
   "source": [
    "len(tweets_data)"
   ]
  },
  {
   "cell_type": "markdown",
   "metadata": {},
   "source": [
    "## Analysing the Twitter data\n",
    "\n",
    "### Converting tweets into edges for use with Gephi"
   ]
  },
  {
   "cell_type": "code",
   "execution_count": 111,
   "metadata": {
    "collapsed": false
   },
   "outputs": [],
   "source": [
    "#This function converts the tweet stream into tweets and edges\n",
    "def tweets_n_edges(tweet_stream):\n",
    "    tweets=[]\n",
    "    edges=[]\n",
    "\n",
    "    for tweet in tweet_stream:\n",
    "        try:\n",
    "            decoded = json.loads(tweet)\n",
    "            usr_mentions= decoded['entities']['user_mentions']\n",
    "            #print usr_mentions\n",
    "            if len(usr_mentions)>0:\n",
    "                for ii in usr_mentions:\n",
    "                    if decoded['user']['screen_name'] != ii['screen_name']:\n",
    "                        edges.append((decoded['user']['screen_name'], ii['screen_name']))\n",
    "            tweets.append(decoded)\n",
    "        except: # if no user mentions, or something unexpected\n",
    "            continue\n",
    "\n",
    "    return (tweets,edges)"
   ]
  },
  {
   "cell_type": "code",
   "execution_count": 114,
   "metadata": {
    "collapsed": false
   },
   "outputs": [],
   "source": [
    "tweets,edges = tweets_n_edges(tweets_data)"
   ]
  },
  {
   "cell_type": "code",
   "execution_count": 115,
   "metadata": {
    "collapsed": false
   },
   "outputs": [
    {
     "name": "stdout",
     "output_type": "stream",
     "text": [
      "There are 1000 tweets about data science this week, and 895 user mentions!\n"
     ]
    }
   ],
   "source": [
    "print \"There are %s tweets about data science this week, and %s user mentions!\" % ( len(tweets), len(edges) )"
   ]
  },
  {
   "cell_type": "code",
   "execution_count": null,
   "metadata": {
    "collapsed": false
   },
   "outputs": [],
   "source": [
    "edges"
   ]
  },
  {
   "cell_type": "markdown",
   "metadata": {},
   "source": [
    "### Finding the most important nodes\n",
    "NetworkX (NX) is a Python package for the creation, manipulation, and study of the structure, dynamics, and functions of complex networks"
   ]
  },
  {
   "cell_type": "code",
   "execution_count": 118,
   "metadata": {
    "collapsed": false
   },
   "outputs": [
    {
     "data": {
      "text/plain": [
       "[(1, (u'ProjetoTagsJB', 0.8049844718999243)),\n",
       " (2, (u'SuaMigaLouca', 0.17888543819998315)),\n",
       " (3, (u'JBPROJETO24HRS', 0.17888543819998315)),\n",
       " (4, (u'ProjetooBieber', 0.17888543819998315)),\n",
       " (5, (u'shopfandoms', 0.17888543819998315)),\n",
       " (6, (u'jusdrake', 0.17888543819998315)),\n",
       " (7, (u'ProjetoFFans', 0.17888543819998315)),\n",
       " (8, (u'PJFollowJBHelp', 0.08944271909999157)),\n",
       " (9, (u'projetoojbbr', 0.08944271909999157)),\n",
       " (10, (u'Beasena94', 0.08944271909999157))]"
      ]
     },
     "execution_count": 118,
     "metadata": {},
     "output_type": "execute_result"
    }
   ],
   "source": [
    "import networkx as nx\n",
    "\n",
    "G=nx.DiGraph() # initiate a directed graph\n",
    "G.add_edges_from(edges) # add edges to the graph from user mentions\n",
    "ev_cent=nx.eigenvector_centrality(G,max_iter=10000) # compute eigenvector centrality\n",
    "\n",
    "ev_tuple = []\n",
    "for i in ev_cent.keys():\n",
    "    ev_tuple.append((i,ev_cent[i]))\n",
    "    \n",
    "zip(range(1,11)[::-1],sorted(ev_tuple,key=lambda x: x[1])[-10:])[::-1] # get the top 10 network influencers"
   ]
  },
  {
   "cell_type": "markdown",
   "metadata": {},
   "source": [
    "### Exporting data into CSV file"
   ]
  },
  {
   "cell_type": "code",
   "execution_count": 125,
   "metadata": {
    "collapsed": false
   },
   "outputs": [
    {
     "data": {
      "text/plain": [
       "<function close>"
      ]
     },
     "execution_count": 125,
     "metadata": {},
     "output_type": "execute_result"
    }
   ],
   "source": [
    "import csv\n",
    "\n",
    "myfile = open('edges1.csv', 'wb')\n",
    "wr = csv.writer(myfile, quoting=csv.QUOTE_ALL)\n",
    "wr.writerow(edges)\n",
    "myfile.close"
   ]
  }
 ],
 "metadata": {
  "kernelspec": {
   "display_name": "Python 2",
   "language": "python",
   "name": "python2"
  },
  "language_info": {
   "codemirror_mode": {
    "name": "ipython",
    "version": 2
   },
   "file_extension": ".py",
   "mimetype": "text/x-python",
   "name": "python",
   "nbconvert_exporter": "python",
   "pygments_lexer": "ipython2",
   "version": "2.7.11"
  }
 },
 "nbformat": 4,
 "nbformat_minor": 0
}
